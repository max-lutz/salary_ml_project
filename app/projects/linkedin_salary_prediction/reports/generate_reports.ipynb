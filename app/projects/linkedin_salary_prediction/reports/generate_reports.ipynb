{
 "cells": [
  {
   "cell_type": "code",
   "execution_count": 31,
   "id": "01448e23",
   "metadata": {},
   "outputs": [
    {
     "name": "stderr",
     "output_type": "stream",
     "text": [
      "[nltk_data] Downloading package words to /home/maxou1909/nltk_data...\n",
      "[nltk_data]   Package words is already up-to-date!\n",
      "[nltk_data] Downloading package wordnet to\n",
      "[nltk_data]     /home/maxou1909/nltk_data...\n",
      "[nltk_data]   Package wordnet is already up-to-date!\n",
      "[nltk_data] Downloading package omw-1.4 to\n",
      "[nltk_data]     /home/maxou1909/nltk_data...\n",
      "[nltk_data]   Package omw-1.4 is already up-to-date!\n",
      "[nltk_data] Downloading package vader_lexicon to\n",
      "[nltk_data]     /home/maxou1909/nltk_data...\n",
      "[nltk_data]   Package vader_lexicon is already up-to-date!\n"
     ]
    },
    {
     "data": {
      "text/plain": [
       "True"
      ]
     },
     "execution_count": 31,
     "metadata": {},
     "output_type": "execute_result"
    }
   ],
   "source": [
    "import os\n",
    "import shutil\n",
    "import pandas as pd\n",
    "from tqdm import tqdm\n",
    "\n",
    "import datetime\n",
    "from evidently import ColumnMapping, metrics\n",
    "from evidently.metrics import ColumnDriftMetric, ColumnSummaryMetric, DatasetDriftMetric, DatasetMissingValuesMetric\n",
    "from evidently.metrics import RegressionQualityMetric, RegressionPredictedVsActualPlot, RegressionErrorPlot\n",
    "from evidently.metrics import DataDriftTable, TextDescriptorsDriftMetric\n",
    "from evidently.report import Report\n",
    "from evidently.metric_preset import TextOverviewPreset, DataQualityPreset, DataDriftPreset\n",
    "from evidently.test_suite import TestSuite\n",
    "from evidently.ui.dashboards import CounterAgg, DashboardPanelCounter, DashboardPanelPlot, PanelValue, PlotType, ReportFilter\n",
    "from evidently.ui.workspace import Workspace, WorkspaceBase\n",
    "\n",
    "from evidently.test_preset import NoTargetPerformanceTestPreset\n",
    "from evidently.test_preset import DataQualityTestPreset\n",
    "from evidently.test_preset import DataStabilityTestPreset\n",
    "from evidently.test_preset import DataDriftTestPreset\n",
    "from evidently.test_preset import RegressionTestPreset\n",
    "from evidently.test_preset import MulticlassClassificationTestPreset\n",
    "from evidently.test_preset import BinaryClassificationTopKTestPreset\n",
    "from evidently.test_preset import BinaryClassificationTestPreset\n",
    "\n",
    "from evidently.tests import TestColumnDrift, TestMeanInNSigmas\n",
    "from evidently.tests import TestValueRange, TestValueRMSE\n",
    "\n",
    "from evidently.descriptors import TextLength, TriggerWordsPresence, OOV, NonLetterCharacterPercentage, WordCount\n",
    "\n",
    "import nltk\n",
    "nltk.download('words')\n",
    "nltk.download('wordnet')\n",
    "nltk.download('omw-1.4')\n",
    "nltk.download('vader_lexicon')"
   ]
  },
  {
   "cell_type": "code",
   "execution_count": 20,
   "id": "0994bd06",
   "metadata": {},
   "outputs": [],
   "source": [
    "def create_report(train, test, i: int, report_type):\n",
    "    column_mapping = ColumnMapping(\n",
    "        categorical_features=['experience', 'location'],\n",
    "        text_features=['title', 'description'],\n",
    "        target=\"target\"\n",
    "    )\n",
    "    \n",
    "    metrics = []\n",
    "    if(report_type == \"data_quality\"):\n",
    "        metrics = [DataQualityPreset()]\n",
    "    elif(report_type == \"data_drift\"):\n",
    "        metrics = [\n",
    "            DataDriftPreset(),            \n",
    "            TextDescriptorsDriftMetric(column_name=\"title\"),\n",
    "            TextDescriptorsDriftMetric(column_name=\"description\")\n",
    "        ]\n",
    "    \n",
    "    data_drift_report = Report(\n",
    "        metrics=metrics\n",
    "    )\n",
    "\n",
    "    data_drift_report.run(reference_data=train,\n",
    "                          current_data=test.iloc[100 * i: 100 * (i + 1), :],\n",
    "                          column_mapping=column_mapping)\n",
    "    return data_drift_report"
   ]
  },
  {
   "cell_type": "code",
   "execution_count": 21,
   "id": "9c245cac",
   "metadata": {},
   "outputs": [],
   "source": [
    "def create_test_suite(train, test, i: int, test_type):\n",
    "    column_mapping = ColumnMapping(\n",
    "        categorical_features=['experience', 'location'],\n",
    "        text_features=['title', 'description'],\n",
    "        target=\"target\"\n",
    "    )\n",
    "    \n",
    "    tests = []\n",
    "    if(test_type == \"data_quality\"):\n",
    "        tests = [DataQualityTestPreset()]\n",
    "    elif(test_type == \"data_drift\"):\n",
    "        tests = [\n",
    "            TestValueRange(column_name=WordCount().for_column(\"title\")),\n",
    "            TestValueRange(column_name=OOV().for_column(\"title\")),\n",
    "            TestValueRange(column_name=TextLength().for_column(\"title\")),\n",
    "\n",
    "            TestValueRange(column_name=WordCount().for_column(\"description\")),\n",
    "            TestValueRange(column_name=OOV().for_column(\"description\")),\n",
    "            TestValueRange(column_name=TextLength().for_column(\"description\")),\n",
    "\n",
    "            TestColumnDrift(column_name=\"experience\"),\n",
    "            TestColumnDrift(column_name=\"location\"),\n",
    "            TestValueRange(column_name=\"target\"),\n",
    "            TestMeanInNSigmas(column_name=\"target\"),\n",
    "        ]\n",
    "\n",
    "    data_drift_test_suite = TestSuite(\n",
    "        tests=tests\n",
    "    )\n",
    "\n",
    "    data_drift_test_suite.run(reference_data=train,\n",
    "                              current_data=test.iloc[100 * i: 100 * (i + 1), :], column_mapping=column_mapping)\n",
    "    return data_drift_test_suite"
   ]
  },
  {
   "cell_type": "code",
   "execution_count": null,
   "id": "19ca16d9",
   "metadata": {},
   "outputs": [],
   "source": []
  },
  {
   "cell_type": "markdown",
   "id": "6b3f628a",
   "metadata": {},
   "source": [
    "## Project generation"
   ]
  },
  {
   "cell_type": "code",
   "execution_count": 4,
   "id": "dcaf6d45",
   "metadata": {},
   "outputs": [],
   "source": [
    "df_train = pd.read_csv(\"../../../data/train.zip\")[0:500].drop(columns=\"id\")\n",
    "df_test = pd.read_csv(\"../../../data/train.zip\")[500:1000].sample(frac=1).drop(columns=\"id\")"
   ]
  },
  {
   "cell_type": "code",
   "execution_count": 23,
   "id": "1486ff5f",
   "metadata": {},
   "outputs": [],
   "source": [
    "# create_report(df_train, df_test, 0, \"data_drift\")"
   ]
  },
  {
   "cell_type": "code",
   "execution_count": 18,
   "id": "13c0e6fa",
   "metadata": {},
   "outputs": [],
   "source": [
    "# create_test_suite(df_train, df_test, 0, \"data_drift\")"
   ]
  },
  {
   "cell_type": "code",
   "execution_count": 36,
   "id": "50f6d6db",
   "metadata": {},
   "outputs": [
    {
     "name": "stderr",
     "output_type": "stream",
     "text": [
      "  0%|                                                                                                                                                           | 0/5 [00:00<?, ?it/s]/home/maxou1909/miniconda3/envs/salary_ml/lib/python3.9/site-packages/scipy/stats/_stats_py.py:8064: RuntimeWarning:\n",
      "\n",
      "divide by zero encountered in divide\n",
      "\n",
      "/home/maxou1909/miniconda3/envs/salary_ml/lib/python3.9/site-packages/scipy/stats/_stats_py.py:8064: RuntimeWarning:\n",
      "\n",
      "divide by zero encountered in divide\n",
      "\n",
      "/home/maxou1909/miniconda3/envs/salary_ml/lib/python3.9/site-packages/scipy/stats/_stats_py.py:8064: RuntimeWarning:\n",
      "\n",
      "divide by zero encountered in divide\n",
      "\n",
      " 20%|█████████████████████████████▍                                                                                                                     | 1/5 [00:12<00:50, 12.64s/it]/home/maxou1909/miniconda3/envs/salary_ml/lib/python3.9/site-packages/scipy/stats/_stats_py.py:8064: RuntimeWarning:\n",
      "\n",
      "divide by zero encountered in divide\n",
      "\n",
      "/home/maxou1909/miniconda3/envs/salary_ml/lib/python3.9/site-packages/sklearn/linear_model/_stochastic_gradient.py:713: ConvergenceWarning:\n",
      "\n",
      "Maximum number of iteration reached before convergence. Consider increasing max_iter to improve the fit.\n",
      "\n",
      "/home/maxou1909/miniconda3/envs/salary_ml/lib/python3.9/site-packages/scipy/stats/_stats_py.py:8064: RuntimeWarning:\n",
      "\n",
      "divide by zero encountered in divide\n",
      "\n",
      "/home/maxou1909/miniconda3/envs/salary_ml/lib/python3.9/site-packages/sklearn/linear_model/_stochastic_gradient.py:713: ConvergenceWarning:\n",
      "\n",
      "Maximum number of iteration reached before convergence. Consider increasing max_iter to improve the fit.\n",
      "\n",
      "/home/maxou1909/miniconda3/envs/salary_ml/lib/python3.9/site-packages/scipy/stats/_stats_py.py:8064: RuntimeWarning:\n",
      "\n",
      "divide by zero encountered in divide\n",
      "\n",
      " 40%|██████████████████████████████████████████████████████████▊                                                                                        | 2/5 [00:21<00:30, 10.25s/it]/home/maxou1909/miniconda3/envs/salary_ml/lib/python3.9/site-packages/scipy/stats/_stats_py.py:8064: RuntimeWarning:\n",
      "\n",
      "divide by zero encountered in divide\n",
      "\n",
      "/home/maxou1909/miniconda3/envs/salary_ml/lib/python3.9/site-packages/scipy/stats/_stats_py.py:8064: RuntimeWarning:\n",
      "\n",
      "divide by zero encountered in divide\n",
      "\n",
      "/home/maxou1909/miniconda3/envs/salary_ml/lib/python3.9/site-packages/scipy/stats/_stats_py.py:8064: RuntimeWarning:\n",
      "\n",
      "divide by zero encountered in divide\n",
      "\n",
      " 60%|████████████████████████████████████████████████████████████████████████████████████████▏                                                          | 3/5 [00:32<00:21, 10.53s/it]/home/maxou1909/miniconda3/envs/salary_ml/lib/python3.9/site-packages/scipy/stats/_stats_py.py:8064: RuntimeWarning:\n",
      "\n",
      "divide by zero encountered in divide\n",
      "\n",
      "/home/maxou1909/miniconda3/envs/salary_ml/lib/python3.9/site-packages/scipy/stats/_stats_py.py:8064: RuntimeWarning:\n",
      "\n",
      "divide by zero encountered in divide\n",
      "\n",
      "/home/maxou1909/miniconda3/envs/salary_ml/lib/python3.9/site-packages/scipy/stats/_stats_py.py:8064: RuntimeWarning:\n",
      "\n",
      "divide by zero encountered in divide\n",
      "\n",
      " 80%|█████████████████████████████████████████████████████████████████████████████████████████████████████████████████████▌                             | 4/5 [00:40<00:09,  9.80s/it]/home/maxou1909/miniconda3/envs/salary_ml/lib/python3.9/site-packages/scipy/stats/_stats_py.py:8064: RuntimeWarning:\n",
      "\n",
      "divide by zero encountered in divide\n",
      "\n",
      "/home/maxou1909/miniconda3/envs/salary_ml/lib/python3.9/site-packages/scipy/stats/_stats_py.py:8064: RuntimeWarning:\n",
      "\n",
      "divide by zero encountered in divide\n",
      "\n",
      "/home/maxou1909/miniconda3/envs/salary_ml/lib/python3.9/site-packages/scipy/stats/_stats_py.py:8064: RuntimeWarning:\n",
      "\n",
      "divide by zero encountered in divide\n",
      "\n",
      "100%|███████████████████████████████████████████████████████████████████████████████████████████████████████████████████████████████████████████████████| 5/5 [00:49<00:00,  9.96s/it]\n"
     ]
    }
   ],
   "source": [
    "weeks = [\"2023-07-24 2023-07-30\", \"2023-07-31 2023-08-06\", \"2023-08-07 2023-08-13\", \n",
    "         \"2023-08-14 2023-08-20\", \"2023-08-21 2023-08-27\"]\n",
    "\n",
    "\n",
    "for i in tqdm(range(5)):\n",
    "    if(os.path.exists(os.path.join(os.getcwd(), weeks[0]))):\n",
    "        shutil.rmtree(weeks[i])\n",
    "    os.makedirs(weeks[i])\n",
    "    for report_type in [\"data_quality\", \"data_drift\"]:\n",
    "        os.makedirs(os.path.join(weeks[i], report_type))\n",
    "        report = create_report(df_train, df_test, i, report_type)\n",
    "        report.save_html(os.path.join(weeks[i], report_type, f\"{report_type}_report.html\"))\n",
    "        \n",
    "        test = create_test_suite(df_train, df_test, i, report_type)\n",
    "        test.save_html(os.path.join(weeks[i], report_type, f\"{report_type}_test.html\"))"
   ]
  },
  {
   "cell_type": "code",
   "execution_count": null,
   "id": "be92e4e2",
   "metadata": {},
   "outputs": [],
   "source": []
  },
  {
   "cell_type": "code",
   "execution_count": null,
   "id": "edd7e1c0",
   "metadata": {},
   "outputs": [],
   "source": []
  }
 ],
 "metadata": {
  "kernelspec": {
   "display_name": "Python 3 (ipykernel)",
   "language": "python",
   "name": "python3"
  },
  "language_info": {
   "codemirror_mode": {
    "name": "ipython",
    "version": 3
   },
   "file_extension": ".py",
   "mimetype": "text/x-python",
   "name": "python",
   "nbconvert_exporter": "python",
   "pygments_lexer": "ipython3",
   "version": "3.9.17"
  }
 },
 "nbformat": 4,
 "nbformat_minor": 5
}
