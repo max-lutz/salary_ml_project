{
 "cells": [
  {
   "cell_type": "markdown",
   "metadata": {},
   "source": [
    "## Import libraries"
   ]
  },
  {
   "cell_type": "code",
   "execution_count": 1,
   "metadata": {},
   "outputs": [
    {
     "name": "stderr",
     "output_type": "stream",
     "text": [
      "[nltk_data] Downloading package stopwords to\n",
      "[nltk_data]     /home/maxou1909/nltk_data...\n",
      "[nltk_data]   Package stopwords is already up-to-date!\n",
      "[nltk_data] Downloading package wordnet to\n",
      "[nltk_data]     /home/maxou1909/nltk_data...\n",
      "[nltk_data]   Package wordnet is already up-to-date!\n"
     ]
    },
    {
     "data": {
      "text/plain": [
       "True"
      ]
     },
     "execution_count": 1,
     "metadata": {},
     "output_type": "execute_result"
    }
   ],
   "source": [
    "import pandas as pd\n",
    "import numpy as np\n",
    "import string as st\n",
    "import nltk\n",
    "import re\n",
    "from nltk import PorterStemmer, WordNetLemmatizer\n",
    "\n",
    "nltk.download('stopwords')\n",
    "nltk.download('wordnet')"
   ]
  },
  {
   "cell_type": "markdown",
   "metadata": {},
   "source": [
    "## Function definition"
   ]
  },
  {
   "cell_type": "code",
   "execution_count": 30,
   "metadata": {},
   "outputs": [],
   "source": [
    "def list_to_numeric(x):\n",
    "    if(len(x) == 1):\n",
    "        return pd.to_numeric(x[0], errors='coerce')\n",
    "    if(len(x) == 2):\n",
    "        x = pd.to_numeric(x, errors='coerce')\n",
    "        #big difference in numbers:\n",
    "        x.sort()\n",
    "        if(x[0] < x[1]/1000):\n",
    "            x[0] = x[0]*1000\n",
    "        if(x[0] == 0):\n",
    "            x = x[1]*1000\n",
    "        x = np.mean(x)\n",
    "        return x\n",
    "    else:\n",
    "        return np.nan\n",
    "    \n",
    "def extract_salary(df):\n",
    "    s = df['description'].str.extractall(r'([\\$][ 0123456789,BMbmilkK+-]*)')\n",
    "    s = s.reset_index(names=['id', 'match'])\n",
    "    s = s.rename(columns={0:'salary_raw'})\n",
    "    s['salary_str'] = s['salary_raw'].map(lambda x: x.lower().lstrip('$ ').rstrip(' /-.+'))\n",
    "    s['salary_str'] = s['salary_str'].map(lambda x: x.replace(',','').replace('.00', '').replace('-', ' ').replace('k', '000'))\n",
    "    s['salary_str'] = s['salary_str'].map(lambda x: x.split())\n",
    "    s['salary_numeric'] = s['salary_str'].apply(list_to_numeric)\n",
    "    return s\n",
    "\n",
    "def clean_salary(df):\n",
    "    df.loc[df['salary_numeric'] < 15, 'salary_numeric'] = np.nan\n",
    "    df.loc[df['salary_numeric'] <= 100, 'salary_numeric'] = df['salary_numeric']*52*40\n",
    "    df.loc[(df['salary_numeric'] > 100) & (df['salary_numeric'] < 30_000), 'salary_numeric'] = np.nan\n",
    "    df.loc[df['salary_numeric'] > 1_000_000, 'salary_numeric'] = np.nan\n",
    "    df = df[~df['salary_numeric'].isna()]\n",
    "    df = df.groupby(['id']).agg({'salary_numeric':'mean'}).reset_index()\n",
    "    \n",
    "    return df"
   ]
  },
  {
   "cell_type": "code",
   "execution_count": 31,
   "metadata": {},
   "outputs": [],
   "source": [
    "def remove_punct(text):\n",
    "    return (\"\".join([ch for ch in text if ch not in st.punctuation]))\n",
    "\n",
    "def tokenize(text):\n",
    "    text = re.split('\\s+' ,text)\n",
    "    return [x.lower() for x in text]\n",
    "\n",
    "def remove_small_words(text):\n",
    "    return [x for x in text if len(x) > 3 ]\n",
    "\n",
    "def remove_stopwords(text):\n",
    "    return [word for word in text if word not in nltk.corpus.stopwords.words('english')]\n",
    "\n",
    "def stemming(text):\n",
    "    ps = PorterStemmer()\n",
    "    return [ps.stem(word) for word in text]\n",
    "\n",
    "def lemmatize(text):\n",
    "    word_net = WordNetLemmatizer()\n",
    "    return [word_net.lemmatize(word) for word in text]\n",
    "\n",
    "def return_sentences(tokens):\n",
    "    return \" \".join([word for word in tokens])\n",
    "\n",
    "\n",
    "def clean_text(df, column, lemma, debug=False):\n",
    "    df['removed_punc'] = df[column].apply(lambda x: remove_punct(x))\n",
    "    df['tokens'] = df['removed_punc'].apply(lambda msg : tokenize(msg))\n",
    "    df['larger_tokens'] = df['tokens'].apply(lambda x : remove_small_words(x))\n",
    "    df['clean_tokens'] = df['larger_tokens'].apply(lambda x : remove_stopwords(x))\n",
    "    if(lemma):\n",
    "        df['words'] = df['clean_tokens'].apply(lambda x : lemmatize(x))\n",
    "    else:\n",
    "        df['words'] = df['clean_tokens'].apply(lambda wrd: stemming(wrd))\n",
    "    df['clean_text'] = df['words'].apply(lambda x : return_sentences(x))\n",
    "    \n",
    "    if(debug):\n",
    "        return df\n",
    "    df = df.drop(columns=['removed_punc', 'tokens', 'larger_tokens', 'clean_tokens', 'words', column])\n",
    "    df = df.rename(columns={'clean_text':column})\n",
    "    return df"
   ]
  },
  {
   "cell_type": "markdown",
   "metadata": {},
   "source": [
    "## Load data"
   ]
  },
  {
   "cell_type": "code",
   "execution_count": 73,
   "metadata": {},
   "outputs": [],
   "source": [
    "df = pd.read_hdf('../data/linkedin_jobs_v2.h5')\n",
    "df = df.reset_index(drop=True)"
   ]
  },
  {
   "cell_type": "markdown",
   "metadata": {},
   "source": [
    "## Clean data"
   ]
  },
  {
   "cell_type": "code",
   "execution_count": 74,
   "metadata": {},
   "outputs": [],
   "source": [
    "s = extract_salary(df)\n",
    "s = clean_salary(s)\n",
    "df = s.join(df, on='id', how='outer').set_index('id').sort_index()"
   ]
  },
  {
   "cell_type": "code",
   "execution_count": 75,
   "metadata": {},
   "outputs": [],
   "source": [
    "df['description'] = df['description'].replace('([\\$][ 0123456789,BMbmilkK+-]*)', '', regex=True)\n",
    "df['title'] = df['title'].replace('\\d+', '', regex=True)\n",
    "df = clean_text(df, 'description', lemma=True)\n",
    "df = clean_text(df, 'title', lemma=True)\n",
    "df = clean_text(df, 'location', lemma=True)"
   ]
  },
  {
   "cell_type": "code",
   "execution_count": 76,
   "metadata": {},
   "outputs": [
    {
     "data": {
      "text/html": [
       "<div>\n",
       "<style scoped>\n",
       "    .dataframe tbody tr th:only-of-type {\n",
       "        vertical-align: middle;\n",
       "    }\n",
       "\n",
       "    .dataframe tbody tr th {\n",
       "        vertical-align: top;\n",
       "    }\n",
       "\n",
       "    .dataframe thead th {\n",
       "        text-align: right;\n",
       "    }\n",
       "</style>\n",
       "<table border=\"1\" class=\"dataframe\">\n",
       "  <thead>\n",
       "    <tr style=\"text-align: right;\">\n",
       "      <th></th>\n",
       "      <th>title</th>\n",
       "      <th>location</th>\n",
       "      <th>experience</th>\n",
       "      <th>description</th>\n",
       "      <th>target</th>\n",
       "    </tr>\n",
       "    <tr>\n",
       "      <th>id</th>\n",
       "      <th></th>\n",
       "      <th></th>\n",
       "      <th></th>\n",
       "      <th></th>\n",
       "      <th></th>\n",
       "    </tr>\n",
       "  </thead>\n",
       "  <tbody>\n",
       "    <tr>\n",
       "      <th>5</th>\n",
       "      <td>data analyst</td>\n",
       "      <td>chicago</td>\n",
       "      <td>ENTRY_LEVEL</td>\n",
       "      <td>precise solution looking talent consultant bri...</td>\n",
       "      <td>118660.0</td>\n",
       "    </tr>\n",
       "    <tr>\n",
       "      <th>12</th>\n",
       "      <td>customer data analyst</td>\n",
       "      <td>chicago</td>\n",
       "      <td>ENTRY_LEVEL</td>\n",
       "      <td>hiring customer data analyst client area would...</td>\n",
       "      <td>67600.0</td>\n",
       "    </tr>\n",
       "    <tr>\n",
       "      <th>20</th>\n",
       "      <td>technicaldata analyst remote</td>\n",
       "      <td>hinsdale</td>\n",
       "      <td>ENTRY_LEVEL</td>\n",
       "      <td>join dynamic team contributor core delivery de...</td>\n",
       "      <td>49000.0</td>\n",
       "    </tr>\n",
       "    <tr>\n",
       "      <th>25</th>\n",
       "      <td>survey data analyst onsite</td>\n",
       "      <td>chicago</td>\n",
       "      <td>ENTRY_LEVEL</td>\n",
       "      <td>summary firm seek detailoriented survey data a...</td>\n",
       "      <td>60000.0</td>\n",
       "    </tr>\n",
       "    <tr>\n",
       "      <th>27</th>\n",
       "      <td>business intelligence analyst</td>\n",
       "      <td>skokie</td>\n",
       "      <td>ENTRY_LEVEL</td>\n",
       "      <td>client seeking business intelligence analyst l...</td>\n",
       "      <td>115000.0</td>\n",
       "    </tr>\n",
       "    <tr>\n",
       "      <th>...</th>\n",
       "      <td>...</td>\n",
       "      <td>...</td>\n",
       "      <td>...</td>\n",
       "      <td>...</td>\n",
       "      <td>...</td>\n",
       "    </tr>\n",
       "    <tr>\n",
       "      <th>3802</th>\n",
       "      <td>technology platform principal practitioner</td>\n",
       "      <td>chicago</td>\n",
       "      <td>DIRECTOR</td>\n",
       "      <td>you’ll chance build career unique global scale...</td>\n",
       "      <td>246650.0</td>\n",
       "    </tr>\n",
       "    <tr>\n",
       "      <th>3808</th>\n",
       "      <td>chief product officer gtschool remote year</td>\n",
       "      <td>chicago</td>\n",
       "      <td>EXECUTIVE</td>\n",
       "      <td>crossover world source fulltime remote job cli...</td>\n",
       "      <td>800000.0</td>\n",
       "    </tr>\n",
       "    <tr>\n",
       "      <th>3809</th>\n",
       "      <td>chief technology officer gtschool remote year</td>\n",
       "      <td>chicago</td>\n",
       "      <td>EXECUTIVE</td>\n",
       "      <td>crossover world source fulltime remote job cli...</td>\n",
       "      <td>800000.0</td>\n",
       "    </tr>\n",
       "    <tr>\n",
       "      <th>3811</th>\n",
       "      <td>director commercial pharma advanced analytics</td>\n",
       "      <td>chicago</td>\n",
       "      <td>EXECUTIVE</td>\n",
       "      <td>axtria introduction axtria global provider clo...</td>\n",
       "      <td>175000.0</td>\n",
       "    </tr>\n",
       "    <tr>\n",
       "      <th>3812</th>\n",
       "      <td>vice president cyber underwriting chicagomidwe...</td>\n",
       "      <td>chicago</td>\n",
       "      <td>EXECUTIVE</td>\n",
       "      <td>united mission make world safer place corvus i...</td>\n",
       "      <td>177500.0</td>\n",
       "    </tr>\n",
       "  </tbody>\n",
       "</table>\n",
       "<p>1085 rows × 5 columns</p>\n",
       "</div>"
      ],
      "text/plain": [
       "                                                  title  location  \\\n",
       "id                                                                  \n",
       "5                                          data analyst   chicago   \n",
       "12                                customer data analyst   chicago   \n",
       "20                         technicaldata analyst remote  hinsdale   \n",
       "25                           survey data analyst onsite   chicago   \n",
       "27                        business intelligence analyst    skokie   \n",
       "...                                                 ...       ...   \n",
       "3802         technology platform principal practitioner   chicago   \n",
       "3808         chief product officer gtschool remote year   chicago   \n",
       "3809      chief technology officer gtschool remote year   chicago   \n",
       "3811      director commercial pharma advanced analytics   chicago   \n",
       "3812  vice president cyber underwriting chicagomidwe...   chicago   \n",
       "\n",
       "       experience                                        description    target  \n",
       "id                                                                              \n",
       "5     ENTRY_LEVEL  precise solution looking talent consultant bri...  118660.0  \n",
       "12    ENTRY_LEVEL  hiring customer data analyst client area would...   67600.0  \n",
       "20    ENTRY_LEVEL  join dynamic team contributor core delivery de...   49000.0  \n",
       "25    ENTRY_LEVEL  summary firm seek detailoriented survey data a...   60000.0  \n",
       "27    ENTRY_LEVEL  client seeking business intelligence analyst l...  115000.0  \n",
       "...           ...                                                ...       ...  \n",
       "3802     DIRECTOR  you’ll chance build career unique global scale...  246650.0  \n",
       "3808    EXECUTIVE  crossover world source fulltime remote job cli...  800000.0  \n",
       "3809    EXECUTIVE  crossover world source fulltime remote job cli...  800000.0  \n",
       "3811    EXECUTIVE  axtria introduction axtria global provider clo...  175000.0  \n",
       "3812    EXECUTIVE  united mission make world safer place corvus i...  177500.0  \n",
       "\n",
       "[1085 rows x 5 columns]"
      ]
     },
     "execution_count": 76,
     "metadata": {},
     "output_type": "execute_result"
    }
   ],
   "source": [
    "df = df.drop(columns=['link', 'date', 'company'])\n",
    "df = df.rename(columns={'salary_numeric':'target'})\n",
    "df = df[['title', 'location', 'experience', 'description', 'target']]\n",
    "df = df[~df['target'].isna()]\n",
    "df"
   ]
  },
  {
   "cell_type": "code",
   "execution_count": 78,
   "metadata": {},
   "outputs": [],
   "source": [
    "# df['description'].to_list()[0]"
   ]
  },
  {
   "cell_type": "code",
   "execution_count": 49,
   "metadata": {},
   "outputs": [],
   "source": [
    "# df.to_csv('../data/linkedin_jobs.csv')"
   ]
  }
 ],
 "metadata": {
  "kernelspec": {
   "display_name": "Python 3 (ipykernel)",
   "language": "python",
   "name": "python3"
  },
  "language_info": {
   "codemirror_mode": {
    "name": "ipython",
    "version": 3
   },
   "file_extension": ".py",
   "mimetype": "text/x-python",
   "name": "python",
   "nbconvert_exporter": "python",
   "pygments_lexer": "ipython3",
   "version": "3.11.4"
  }
 },
 "nbformat": 4,
 "nbformat_minor": 2
}
